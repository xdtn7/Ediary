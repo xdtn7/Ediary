{
 "cells": [
  {
   "cell_type": "markdown",
   "metadata": {},
   "source": [
    "# EDIARY\r\n",
    "## Duy Tinh Nguyen"
   ]
  },
  {
   "cell_type": "code",
   "execution_count": 1,
   "metadata": {},
   "outputs": [],
   "source": [
    "import tkinter as tk\r\n",
    "from tkinter.filedialog import askopenfilename, asksaveasfilename\r\n",
    "from datetime import datetime\r\n",
    "import pandas as pd\r\n",
    "\r\n",
    "from queue import Queue\r\n",
    "import threading"
   ]
  },
  {
   "cell_type": "code",
   "execution_count": 2,
   "metadata": {},
   "outputs": [],
   "source": [
    "# def get_data (code):\r\n",
    "    \r\n",
    "#     # The ID and range of a sample spreadsheet.\r\n",
    "#     SAMPLE_SPREADSHEET_ID = '1B-ovqR440h-pKkL7PBVAuiZ8kaqgNjg2ke-ReMeCuXk'\r\n",
    "#     SAMPLE_RANGE_NAME = 'historyprice!A1:M101'\r\n",
    "\r\n",
    "#     SCOPES = ['https://www.googleapis.com/auth/spreadsheets']\r\n",
    "#     SERVICE_ACCOUNT_FILE = 'keys.json'\r\n",
    "#     creds = None\r\n",
    "#     creds = service_account.Credentials.from_service_account_file(\r\n",
    "#             SERVICE_ACCOUNT_FILE, scopes=SCOPES)\r\n",
    "\r\n",
    "\r\n",
    "#     service = build('sheets', 'v4', credentials=creds)\r\n",
    "#     MESS = '=IMPORTHTML(\"https://www.cophieu68.vn/historyprice.php?id=' + code + '\";\"table\";2)'\r\n",
    "#     val = [[MESS]]\r\n",
    "#     sheet = service.spreadsheets()\r\n",
    "#     request = sheet.values().update(spreadsheetId=SAMPLE_SPREADSHEET_ID, range=\"historyprice!A1\", valueInputOption = \"USER_ENTERED\", body = {\"values\":val}).execute()\r\n",
    "\r\n",
    "#     # Call the Sheets API\r\n",
    "\r\n",
    "#     result = sheet.values().get(spreadsheetId=SAMPLE_SPREADSHEET_ID, range=SAMPLE_RANGE_NAME).execute()\r\n",
    "#     values = result.get('values', [])\r\n",
    "\r\n",
    "#     return values"
   ]
  },
  {
   "cell_type": "code",
   "execution_count": 3,
   "metadata": {},
   "outputs": [],
   "source": [
    "def current_time():\r\n",
    "    return datetime.now().strftime(\"%d/%m/%Y\")"
   ]
  },
  {
   "cell_type": "code",
   "execution_count": 4,
   "metadata": {},
   "outputs": [],
   "source": [
    "def get_csv(path):\r\n",
    "    return pd.read_csv(path)"
   ]
  },
  {
   "cell_type": "code",
   "execution_count": 5,
   "metadata": {},
   "outputs": [],
   "source": [
    "def window():\r\n",
    "    window = tk.Tk()\r\n",
    "    window.title(\"Encyclopaedic Diary\")\r\n",
    "    window.rowconfigure(0, minsize=200, weight=1)\r\n",
    "    window.columnconfigure(1, minsize=200, weight=1)\r\n",
    "    \r\n",
    "    def export():\r\n",
    "        test = tk.Label(window, text = \"Test\")\r\n",
    "        test.grid(row=0, column=3, sticky=\"nsew\")\r\n",
    "\r\n",
    "    def write_data(id_,date,field,content,source,link,check):\r\n",
    "        y = pd.read_csv('database/diary.csv')\r\n",
    "        x = pd.DataFrame([[id_,date,field,content,source,link,check]], columns= y.columns)\r\n",
    "        y.append(x)\r\n",
    "        y.to_csv('database/diary.csv')\r\n",
    "    \r\n",
    "\r\n",
    "    fr_buttons = tk.Frame(window, relief=tk.RAISED, bd=2)\r\n",
    "    fr_buttons2 = tk.Frame(window, relief=tk.RAISED, bd=2)\r\n",
    "    fr_buttons3 = tk.Frame(window, relief=tk.RAISED, bd=2)\r\n",
    "    #btn_open = tk.Button(fr_buttons, text=\"Open\")\r\n",
    "    btn_save = tk.Button(fr_buttons, text=\"Export\", command = export)\r\n",
    "    txt_edit = tk.Text(fr_buttons2, height = 1)\r\n",
    "    txt_edit2 = tk.Text(fr_buttons2, height = 10)\r\n",
    "    label = tk.Label(fr_buttons2, text = \"Field:\")\r\n",
    "    label2 = tk.Label(fr_buttons2, text = \"Message:\")\r\n",
    "    time = tk.Label(fr_buttons, text = \"Date:\\n\" + current_time())\r\n",
    "    listbox = tk.Listbox(fr_buttons3)\r\n",
    "    label3 = tk.Label(fr_buttons3, text = \"View Fields: \")\r\n",
    "    #btn_open.grid(row=0, column=0, sticky=\"ew\", padx=5, pady=5)\r\n",
    "    btn_save.grid(row=1, column=0, sticky=\"ew\", padx=5)\r\n",
    "    time.grid(row=2, column=0, sticky=\"ew\", padx=5)\r\n",
    "\r\n",
    "    fr_buttons.grid(row=0, column=0, sticky=\"ns\")\r\n",
    "\r\n",
    "    label.grid(row=0, column=1, sticky=\"sw\")\r\n",
    "    txt_edit.grid(row=1, column=1, sticky=\"nsew\", padx=5)\r\n",
    "    label2.grid(row=2, column=1, sticky=\"sw\")\r\n",
    "    txt_edit2.grid(row=3, column=1, sticky=\"nsew\", padx=5)\r\n",
    "\r\n",
    "\r\n",
    "    fr_buttons2.grid(row=0, column=1, sticky=\"nsew\")\r\n",
    "\r\n",
    "    label3.grid(row=0, column=0, sticky=\"nsew\")\r\n",
    "    listbox.grid(row=1, column=0, sticky=\"nsew\", padx=5)\r\n",
    "    fr_buttons3.grid(row=0, column=2, sticky=\"nsew\")\r\n",
    "\r\n",
    "    csv = get_csv('database/field.csv').field\r\n",
    "    if len(csv) != 0:\r\n",
    "            for i in range(len(csv)):\r\n",
    "                listbox.insert(i+1, csv.iloc[i])\r\n",
    "\r\n",
    "    window.mainloop()"
   ]
  },
  {
   "cell_type": "code",
   "execution_count": 6,
   "metadata": {},
   "outputs": [],
   "source": [
    "def verify(in_q):\r\n",
    "\r\n",
    "    verify = tk.Tk()\r\n",
    "    verify.title(\"Verification\")\r\n",
    "    verify.rowconfigure(0, minsize=5, weight=1)\r\n",
    "    verify.columnconfigure(0, minsize=10, weight=1)\r\n",
    "    verify.iconphoto(False, tk.PhotoImage(file='database/icon.png'))\r\n",
    "    \r\n",
    "    def exit():\r\n",
    "        END = 'end'\r\n",
    "        in_q.put(END)\r\n",
    "        verify.destroy()\r\n",
    "\r\n",
    "    frame = tk.Frame(verify, relief=tk.RAISED, bd=2)\r\n",
    "\r\n",
    "    label = tk.Label(frame, text = \"Password: \")\r\n",
    "    text = tk.Entry(frame, show=\"@\", width=40)\r\n",
    "    var = tk.StringVar()\r\n",
    "    res = tk.Label(frame, textvariable = var )\r\n",
    "    end = tk.Button(frame, text = 'Exit', command = exit)\r\n",
    "    var.set(\"Type your password\")\r\n",
    "\r\n",
    "    def passw(event, in_q = in_q):  \r\n",
    "        \r\n",
    "        Right = '091020'\r\n",
    "        OK = 'ok'\r\n",
    "        if Right == text.get():\r\n",
    "            in_q.put(OK)\r\n",
    "            verify.destroy()\r\n",
    "        else:\r\n",
    "            text.delete(0, tk.END)\r\n",
    "            if var.get() == \"Wrong\":\r\n",
    "                var.set(\"Wrong, babe! Type again!\")   \r\n",
    "            else:\r\n",
    "                var.set(\"Wrong\")\r\n",
    "\r\n",
    "    button = tk.Button(frame, text=\"Enter\", command = lambda : passw(event = None))\r\n",
    "\r\n",
    "    frame.grid(sticky=\"ns\", pady = 1)\r\n",
    "    label.grid(row=0, column=0, sticky=\"nsew\")\r\n",
    "    text.grid(row=0, column=1, sticky=\"nsew\", pady= 5)\r\n",
    "    text.bind('<Return>', func = passw) #detect enter button\r\n",
    "    button.grid(row=0, column=2, sticky=\"nsew\", pady= 5)\r\n",
    "    res.grid(row=1, column=1, sticky=\"nsew\", pady= 5)\r\n",
    "    end.grid(row=1, column=2, sticky=\"nsew\", pady= 5)\r\n",
    "\r\n",
    "    \r\n",
    "    verify.mainloop()\r\n"
   ]
  },
  {
   "cell_type": "code",
   "execution_count": 7,
   "metadata": {},
   "outputs": [],
   "source": [
    "def mainprogram(q, wind):\r\n",
    "    while True:\r\n",
    "        MESS = q.get()\r\n",
    "        if MESS == 'ok':\r\n",
    "            break\r\n",
    "        elif MESS == 'end':\r\n",
    "            print('ENDUP')\r\n",
    "            return\r\n",
    "    print('OK')\r\n",
    "    wind()"
   ]
  },
  {
   "cell_type": "code",
   "execution_count": 10,
   "metadata": {},
   "outputs": [
    {
     "name": "stdout",
     "output_type": "stream",
     "text": [
      "OK\n",
      "DONE\n"
     ]
    }
   ],
   "source": [
    "q = Queue()\r\n",
    "t1 = threading.Thread(target = verify, args= (q, ))\r\n",
    "t2 = threading.Thread(target= mainprogram, args= (q, window, ))\r\n",
    "\r\n",
    "t1.start()\r\n",
    "t2.start()\r\n",
    "\r\n",
    "t1.join()\r\n",
    "t2.join()\r\n",
    "print('DONE')"
   ]
  },
  {
   "cell_type": "code",
   "execution_count": null,
   "metadata": {},
   "outputs": [],
   "source": []
  },
  {
   "cell_type": "code",
   "execution_count": 43,
   "metadata": {},
   "outputs": [],
   "source": []
  }
 ],
 "metadata": {
  "interpreter": {
   "hash": "6cdbd0b3a31124dfcb103171b91c9d65cd4daac7c08ef9d0cd71239e80169b40"
  },
  "kernelspec": {
   "display_name": "Python 3.9.6 64-bit",
   "name": "python3"
  },
  "language_info": {
   "codemirror_mode": {
    "name": "ipython",
    "version": 3
   },
   "file_extension": ".py",
   "mimetype": "text/x-python",
   "name": "python",
   "nbconvert_exporter": "python",
   "pygments_lexer": "ipython3",
   "version": "3.9.6"
  },
  "orig_nbformat": 4
 },
 "nbformat": 4,
 "nbformat_minor": 2
}